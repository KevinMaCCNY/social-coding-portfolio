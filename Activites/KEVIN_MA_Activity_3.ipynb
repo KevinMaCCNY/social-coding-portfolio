{
 "cells": [
  {
   "cell_type": "markdown",
   "id": "26550237-15cd-45e2-81e1-556bad05a917",
   "metadata": {},
   "source": [
    "# Activity 3: Practicing with pandas"
   ]
  },
  {
   "cell_type": "markdown",
   "id": "4765796a-69ae-4a80-9529-2843912df581",
   "metadata": {},
   "source": [
    "For this activity, we will assume the role of a data scientist in the search for and evaluation of public datasets. In turn, pay close attention to the dataset you choose for counter narratives or nonapparent political values, gaps or underrepresented perspectives.\n",
    "\n",
    "Please make sure you open this file in Jupyter Notebook or Google Colab -- you will have to either open Jupyter Notebook first or upload the file to Google Colab before being able to edit the file.\n",
    "\n",
    "Please make sure you print your output. You may need to use print for your output to be displayed.\n",
    "\n",
    "Submission Instructions\n",
    "Upload the completed activity to the \"Activities\" folder of your GitHub Portfolio;\n",
    "Ensure your submission consists of two files:\n",
    "(a) one single-page reflection in markdown (e.g. a3_reflection.md);\n",
    "(b) one Jupyter notebook with completed responses to each activity step (e.g. a3_pandas.ipynb)."
   ]
  },
  {
   "cell_type": "markdown",
   "id": "b87c910a-66ee-4166-9737-546b68d3e61e",
   "metadata": {},
   "source": [
    "## Data biography: Trans-Atlantic Slave Trade dataset\n",
    "\n",
    "To complete the assignment, please make sure you download the dataset: [https://csc10800.github.io/assets/datasets/Trans-Atlantic-Slave-Trade_Americas.csv](https://csc10800.github.io/assets/datasets/Trans-Atlantic-Slave-Trade_Americas.csv)."
   ]
  },
  {
   "cell_type": "markdown",
   "id": "8749ea10-27e1-4210-b638-abe62a45f609",
   "metadata": {},
   "source": [
    "### 1. Before you begin your exploration, you will provide a short data biography (1 - 2 paragraphs) on the dataset that addresses **where the data came from, who collected it, and the original intention(s) for its collection.**\n",
    "\n",
    "You may find the following sources useful for your research:\n",
    "* [Slave Voyages' Trans-Atlantic Slave Trade methodology](https://www.slavevoyages.org/voyage/about#methodology/introduction/0/en/)\n",
    "    * You may find the sections: Introduction, Coverage of the Slave Trade, and Nature of Sources particularly useful.\n",
    "* [Slave Voyages' About](https://www.slavevoyages.org/about/about#)\n",
    "* [Jamelle Bouie's We Still Can’t See American Slavery for What It Was](https://csc10800.github.io/assets/pdf/Bouie_we_still_cant_see_american_slavery_for_what_it_is.pdf)"
   ]
  },
  {
   "cell_type": "markdown",
   "id": "a40ee643-dbe8-4059-8953-95c11f938235",
   "metadata": {
    "jp-MarkdownHeadingCollapsed": true
   },
   "source": [
    "**Double click to edit cell**     \n",
    "The data set came from in persoon orginally writing it down in notebooks and papers. The workers collected this data."
   ]
  },
  {
   "cell_type": "markdown",
   "id": "1dc86a86-51b2-4bcf-8ad4-18901364e363",
   "metadata": {},
   "source": [
    "-----"
   ]
  },
  {
   "cell_type": "markdown",
   "id": "4769c8e1-a906-4f5d-9b34-0ab30e613d81",
   "metadata": {},
   "source": [
    "## Download and explore dataset\n",
    "\n",
    "As we have been practicing in class, the questions that follow will require you to consider what output you will need before running the appropriate python codes. \n",
    "\n",
    "To ensure your code runs, please remember to load ```pandas``` and the ```Trans-Atlantic-Slave-Trade_Americas.csv``` file into the jupyter notebook environment.\n",
    "\n",
    "If you are running this on Google Colab, please make sure you connect your google drive with your Colab notebook first before attempting the exercise:\n",
    "```\n",
    "from google.colab import drive\n",
    "drive.mount('/content/drive')\n",
    "```"
   ]
  },
  {
   "cell_type": "code",
   "execution_count": 12,
   "id": "c79198e7-340c-4f70-bdb6-4bc50750a6f3",
   "metadata": {},
   "outputs": [
    {
     "name": "stdout",
     "output_type": "stream",
     "text": [
      "<class 'pandas.core.frame.DataFrame'>\n",
      "RangeIndex: 20741 entries, 0 to 20740\n",
      "Data columns (total 14 columns):\n",
      " #   Column             Non-Null Count  Dtype  \n",
      "---  ------             --------------  -----  \n",
      " 0   year_of_arrival    20741 non-null  int64  \n",
      " 1   flag               19583 non-null  object \n",
      " 2   place_of_purchase  20663 non-null  object \n",
      " 3   place_of_landing   20741 non-null  object \n",
      " 4   percent_women      2894 non-null   float64\n",
      " 5   percent_children   2927 non-null   float64\n",
      " 6   percent_men        2894 non-null   float64\n",
      " 7   total_embarked     20722 non-null  float64\n",
      " 8   total_disembarked  20719 non-null  float64\n",
      " 9   resistance_label   372 non-null    object \n",
      " 10  vessel_name        20741 non-null  object \n",
      " 11  captain's_name     19396 non-null  object \n",
      " 12  voyage_id          20741 non-null  int64  \n",
      " 13  sources            20741 non-null  object \n",
      "dtypes: float64(5), int64(2), object(7)\n",
      "memory usage: 2.2+ MB\n"
     ]
    }
   ],
   "source": [
    "import pandas as pd\n",
    "\n",
    "slaveTrade_df = pd.read_csv(\"C:/Users/kevin/OneDrive/Desktop/Data_Science/Trans-Atlantic-Slave-Trade_Americas.csv\")\n",
    "slaveTrade_df.info()"
   ]
  },
  {
   "cell_type": "markdown",
   "id": "1dd42939-8b33-40be-9633-877c4142dcdb",
   "metadata": {},
   "source": [
    "### 2. How many rows of data does the dataset contain?"
   ]
  },
  {
   "cell_type": "code",
   "execution_count": 13,
   "id": "a3afd56e-4d46-4d01-be8b-a65380a1f681",
   "metadata": {},
   "outputs": [
    {
     "name": "stdout",
     "output_type": "stream",
     "text": [
      "20741\n"
     ]
    }
   ],
   "source": [
    "#Your code here\n",
    "print(len(slaveTrade_df))"
   ]
  },
  {
   "cell_type": "markdown",
   "id": "91143422-e360-4be0-8bae-afd42d835260",
   "metadata": {},
   "source": [
    "20741 rows"
   ]
  },
  {
   "cell_type": "markdown",
   "id": "141f7b97-6853-4382-9bca-12be87c446b3",
   "metadata": {},
   "source": [
    "### 3. Are the data types for each column appropriate? Please explain how they are/not approrpiate for your analysis."
   ]
  },
  {
   "cell_type": "markdown",
   "id": "bab74918-52ee-4c6d-80da-b7370081e52d",
   "metadata": {},
   "source": [
    "**Double click to edit cell**     \n",
    "No. The total embarked and total_disembarked should be an interger instead of a float because you cannot have a decimal point of a human."
   ]
  },
  {
   "cell_type": "markdown",
   "id": "37658740-c9ca-465f-a3d0-a33da65ecb91",
   "metadata": {},
   "source": [
    "### 4. What is the overall average proportion of ```percent_women```, ```percent_children```, ```percent_men```?"
   ]
  },
  {
   "cell_type": "code",
   "execution_count": 14,
   "id": "a3b3b700-8339-49c2-9ca1-f35858f86e7e",
   "metadata": {},
   "outputs": [
    {
     "data": {
      "text/html": [
       "<div>\n",
       "<style scoped>\n",
       "    .dataframe tbody tr th:only-of-type {\n",
       "        vertical-align: middle;\n",
       "    }\n",
       "\n",
       "    .dataframe tbody tr th {\n",
       "        vertical-align: top;\n",
       "    }\n",
       "\n",
       "    .dataframe thead th {\n",
       "        text-align: right;\n",
       "    }\n",
       "</style>\n",
       "<table border=\"1\" class=\"dataframe\">\n",
       "  <thead>\n",
       "    <tr style=\"text-align: right;\">\n",
       "      <th></th>\n",
       "      <th>year_of_arrival</th>\n",
       "      <th>percent_women</th>\n",
       "      <th>percent_children</th>\n",
       "      <th>percent_men</th>\n",
       "      <th>total_embarked</th>\n",
       "      <th>total_disembarked</th>\n",
       "      <th>voyage_id</th>\n",
       "    </tr>\n",
       "  </thead>\n",
       "  <tbody>\n",
       "    <tr>\n",
       "      <th>count</th>\n",
       "      <td>20741.000000</td>\n",
       "      <td>2894.000000</td>\n",
       "      <td>2927.000000</td>\n",
       "      <td>2894.000000</td>\n",
       "      <td>20722.000000</td>\n",
       "      <td>20719.000000</td>\n",
       "      <td>20741.000000</td>\n",
       "    </tr>\n",
       "    <tr>\n",
       "      <th>mean</th>\n",
       "      <td>1752.014850</td>\n",
       "      <td>0.274198</td>\n",
       "      <td>0.231582</td>\n",
       "      <td>0.496648</td>\n",
       "      <td>295.050381</td>\n",
       "      <td>251.573966</td>\n",
       "      <td>42783.741671</td>\n",
       "    </tr>\n",
       "    <tr>\n",
       "      <th>std</th>\n",
       "      <td>59.702189</td>\n",
       "      <td>0.116513</td>\n",
       "      <td>0.149508</td>\n",
       "      <td>0.140324</td>\n",
       "      <td>147.997690</td>\n",
       "      <td>128.050439</td>\n",
       "      <td>32401.785320</td>\n",
       "    </tr>\n",
       "    <tr>\n",
       "      <th>min</th>\n",
       "      <td>1520.000000</td>\n",
       "      <td>0.000000</td>\n",
       "      <td>0.000000</td>\n",
       "      <td>0.000000</td>\n",
       "      <td>1.000000</td>\n",
       "      <td>1.000000</td>\n",
       "      <td>112.000000</td>\n",
       "    </tr>\n",
       "    <tr>\n",
       "      <th>25%</th>\n",
       "      <td>1724.000000</td>\n",
       "      <td>0.195265</td>\n",
       "      <td>0.115380</td>\n",
       "      <td>0.407460</td>\n",
       "      <td>194.000000</td>\n",
       "      <td>163.000000</td>\n",
       "      <td>17862.000000</td>\n",
       "    </tr>\n",
       "    <tr>\n",
       "      <th>50%</th>\n",
       "      <td>1765.000000</td>\n",
       "      <td>0.264110</td>\n",
       "      <td>0.215100</td>\n",
       "      <td>0.497890</td>\n",
       "      <td>282.000000</td>\n",
       "      <td>241.000000</td>\n",
       "      <td>31916.000000</td>\n",
       "    </tr>\n",
       "    <tr>\n",
       "      <th>75%</th>\n",
       "      <td>1792.000000</td>\n",
       "      <td>0.346150</td>\n",
       "      <td>0.321900</td>\n",
       "      <td>0.586765</td>\n",
       "      <td>368.000000</td>\n",
       "      <td>313.000000</td>\n",
       "      <td>78283.000000</td>\n",
       "    </tr>\n",
       "    <tr>\n",
       "      <th>max</th>\n",
       "      <td>1866.000000</td>\n",
       "      <td>1.000000</td>\n",
       "      <td>1.000000</td>\n",
       "      <td>1.000000</td>\n",
       "      <td>2024.000000</td>\n",
       "      <td>1700.000000</td>\n",
       "      <td>900206.000000</td>\n",
       "    </tr>\n",
       "  </tbody>\n",
       "</table>\n",
       "</div>"
      ],
      "text/plain": [
       "       year_of_arrival  percent_women  percent_children  percent_men  \\\n",
       "count     20741.000000    2894.000000       2927.000000  2894.000000   \n",
       "mean       1752.014850       0.274198          0.231582     0.496648   \n",
       "std          59.702189       0.116513          0.149508     0.140324   \n",
       "min        1520.000000       0.000000          0.000000     0.000000   \n",
       "25%        1724.000000       0.195265          0.115380     0.407460   \n",
       "50%        1765.000000       0.264110          0.215100     0.497890   \n",
       "75%        1792.000000       0.346150          0.321900     0.586765   \n",
       "max        1866.000000       1.000000          1.000000     1.000000   \n",
       "\n",
       "       total_embarked  total_disembarked      voyage_id  \n",
       "count    20722.000000       20719.000000   20741.000000  \n",
       "mean       295.050381         251.573966   42783.741671  \n",
       "std        147.997690         128.050439   32401.785320  \n",
       "min          1.000000           1.000000     112.000000  \n",
       "25%        194.000000         163.000000   17862.000000  \n",
       "50%        282.000000         241.000000   31916.000000  \n",
       "75%        368.000000         313.000000   78283.000000  \n",
       "max       2024.000000        1700.000000  900206.000000  "
      ]
     },
     "execution_count": 14,
     "metadata": {},
     "output_type": "execute_result"
    }
   ],
   "source": [
    "slaveTrade_df.describe()"
   ]
  },
  {
   "cell_type": "markdown",
   "id": "b4e966c1-1247-4cbc-9a74-0553469d9beb",
   "metadata": {},
   "source": [
    "**Double click to edit cell**     \n",
    "27% Women\n",
    "50% Men \n",
    "23% Children"
   ]
  },
  {
   "cell_type": "markdown",
   "id": "8b2269c7-c46c-44bb-8333-1d8ba9022a61",
   "metadata": {},
   "source": [
    "### 5. How many of the column values for ```percent_women```, ```percent_children```, ```percent_men``` are left blank? Suggest 1 reason why majority of the values in these columns are blank."
   ]
  },
  {
   "cell_type": "code",
   "execution_count": 15,
   "id": "a224a0e4-0e56-40f9-aa41-094882deb499",
   "metadata": {},
   "outputs": [
    {
     "name": "stdout",
     "output_type": "stream",
     "text": [
      "percent_women\n",
      "True     17847\n",
      "False     2894\n",
      "Name: count, dtype: int64\n",
      "percent_children\n",
      "True     17814\n",
      "False     2927\n",
      "Name: count, dtype: int64\n",
      "percent_men\n",
      "True     17847\n",
      "False     2894\n",
      "Name: count, dtype: int64\n"
     ]
    }
   ],
   "source": [
    "blank_women = slaveTrade_df[\"percent_women\"].isna().value_counts()\n",
    "blank_children =slaveTrade_df[\"percent_children\"].isna().value_counts()\n",
    "blank_men = slaveTrade_df[\"percent_men\"].isna().value_counts()\n",
    "\n",
    "print(blank_women)\n",
    "print(blank_children)\n",
    "print(blank_men)"
   ]
  },
  {
   "cell_type": "markdown",
   "id": "23d4de2a-aa0d-4165-bac4-1b53a8ee2030",
   "metadata": {},
   "source": [
    "**Double click to edit cell**     \n",
    "Majority of the values in these were blank because they were not collected at the time"
   ]
  },
  {
   "cell_type": "markdown",
   "id": "43584358-9a8f-45a5-8383-5bf823d8c9be",
   "metadata": {},
   "source": [
    "### 6. Display all duplicated rows and remove the duplicates. Check that the duplicates were successfully removed. Please also suggest a reason why we would remove duplicates for our analysis.\n",
    "\n",
    "**Level-up**: How many duplicated rows do we have? Recall the methods we have used to help us count things."
   ]
  },
  {
   "cell_type": "code",
   "execution_count": 16,
   "id": "6fffb099-3bb0-47d9-a75b-d5255d89ab7a",
   "metadata": {},
   "outputs": [
    {
     "data": {
      "text/html": [
       "<div>\n",
       "<style scoped>\n",
       "    .dataframe tbody tr th:only-of-type {\n",
       "        vertical-align: middle;\n",
       "    }\n",
       "\n",
       "    .dataframe tbody tr th {\n",
       "        vertical-align: top;\n",
       "    }\n",
       "\n",
       "    .dataframe thead th {\n",
       "        text-align: right;\n",
       "    }\n",
       "</style>\n",
       "<table border=\"1\" class=\"dataframe\">\n",
       "  <thead>\n",
       "    <tr style=\"text-align: right;\">\n",
       "      <th></th>\n",
       "      <th>year_of_arrival</th>\n",
       "      <th>flag</th>\n",
       "      <th>place_of_purchase</th>\n",
       "      <th>place_of_landing</th>\n",
       "      <th>percent_women</th>\n",
       "      <th>percent_children</th>\n",
       "      <th>percent_men</th>\n",
       "      <th>total_embarked</th>\n",
       "      <th>total_disembarked</th>\n",
       "      <th>resistance_label</th>\n",
       "      <th>vessel_name</th>\n",
       "      <th>captain's_name</th>\n",
       "      <th>voyage_id</th>\n",
       "      <th>sources</th>\n",
       "    </tr>\n",
       "  </thead>\n",
       "  <tbody>\n",
       "  </tbody>\n",
       "</table>\n",
       "</div>"
      ],
      "text/plain": [
       "Empty DataFrame\n",
       "Columns: [year_of_arrival, flag, place_of_purchase, place_of_landing, percent_women, percent_children, percent_men, total_embarked, total_disembarked, resistance_label, vessel_name, captain's_name, voyage_id, sources]\n",
       "Index: []"
      ]
     },
     "execution_count": 16,
     "metadata": {},
     "output_type": "execute_result"
    }
   ],
   "source": [
    "slaveTrade_df[slaveTrade_df.duplicated(keep = False)]"
   ]
  },
  {
   "cell_type": "markdown",
   "id": "301e9714-6ce7-44cf-8bef-d497b30f511d",
   "metadata": {},
   "source": [
    "**Double click to edit cell**     \n",
    "Please type your answer here."
   ]
  },
  {
   "cell_type": "markdown",
   "id": "7ff8bfcd-4573-43a4-b58c-fb6d48516720",
   "metadata": {},
   "source": [
    "### 7. Please identify the **top 5 most common ports of arrival**.\n",
    "\n",
    "**Hint:** Check the columns ```place_of_landing```."
   ]
  },
  {
   "cell_type": "code",
   "execution_count": 17,
   "id": "56a1e1aa-7fb3-497c-8055-bd1a5deca2f7",
   "metadata": {},
   "outputs": [
    {
     "data": {
      "text/plain": [
       "place_of_landing\n",
       "Barbados, port unspecified    2038\n",
       "Jamaica, port unspecified     1715\n",
       "Kingston                      1622\n",
       "Havana                        1321\n",
       "Cap Francais                  1127\n",
       "Name: count, dtype: int64"
      ]
     },
     "execution_count": 17,
     "metadata": {},
     "output_type": "execute_result"
    }
   ],
   "source": [
    "#Your code here\n",
    "slaveTrade_df['place_of_landing'].value_counts()[:5]"
   ]
  },
  {
   "cell_type": "markdown",
   "id": "9bbe0198-c9b1-4527-9b3d-a09724730c4b",
   "metadata": {},
   "source": [
    "**Double click to edit cell**     \n",
    "Please type your answer here."
   ]
  },
  {
   "cell_type": "markdown",
   "id": "c19dd975-9347-41f5-86e8-992b7bd26591",
   "metadata": {},
   "source": [
    "### 8. Please plot the **top 5 enslavers/captors** from this dataset. Please choose the appropriate visualization (e.g. pie chart, bar chart) to display your finding."
   ]
  },
  {
   "cell_type": "code",
   "execution_count": 18,
   "id": "ab225554-bc39-4841-ac90-26ddca5cae0f",
   "metadata": {},
   "outputs": [
    {
     "data": {
      "text/plain": [
       "<Axes: title={'center': 'Top 5 Enslavers/Captors'}, ylabel='count'>"
      ]
     },
     "execution_count": 18,
     "metadata": {},
     "output_type": "execute_result"
    },
    {
     "data": {
      "image/png": "[encoded data removed]",
      "text/plain": [
       "<Figure size 640x480 with 1 Axes>"
      ]
     },
     "metadata": {},
     "output_type": "display_data"
    }
   ],
   "source": [
    "#Your code here\n",
    "slaveTrade_df[\"captain's_name\"].value_counts()[:5].plot(kind = \"pie\", title = \"Top 5 Enslavers/Captors\")"
   ]
  },
  {
   "cell_type": "markdown",
   "id": "30b9934a-80f7-495e-bcb8-3210c57ce3a7",
   "metadata": {},
   "source": [
    "-----"
   ]
  },
  {
   "cell_type": "markdown",
   "id": "b24b58ce-3f90-4b1a-96b1-00b1b14385d7",
   "metadata": {},
   "source": [
    "## Checking-in on exploration\n"
   ]
  },
  {
   "cell_type": "markdown",
   "id": "7e04fc1a-4956-4f0e-a90b-c5b2e1f66199",
   "metadata": {},
   "source": [
    "### 9. Having briefly explored the dataset, what further questions have emerged as you explored this dataset?    \n",
    "\n",
    "Please share your thoughts in a few sentences."
   ]
  },
  {
   "cell_type": "markdown",
   "id": "28712b05-f6a8-4a12-897c-949f96aaa466",
   "metadata": {},
   "source": [
    "**Double click to edit cell**     \n",
    "Having briefy explored the dataset, questions that emerged as I explored were the context behind the dota. it is hard to see the dataset as mere numbers. t couldn' ignore the fact that they were people, people who loved, people who probably had familles and now where stranded and confused, forced to work.! wanted to know where they ended up? Who they were sold off to? Where in specific Atrica did the people come from not just where they were purchased, So much history and lineage has been lost because the slavers fated to see them as human."
   ]
  },
  {
   "cell_type": "markdown",
   "id": "2721385e-5112-4bd0-a3da-deb1f793405a",
   "metadata": {},
   "source": [
    "-----"
   ]
  },
  {
   "cell_type": "markdown",
   "id": "95ee26ad-cefa-4f9e-9e9f-6a635fb8900a",
   "metadata": {},
   "source": [
    "## Side quest challenge\n",
    "\n",
    "The side quest challenge is for extra credit. You can still get full credit for this activity even if you do not complete this challenge."
   ]
  },
  {
   "cell_type": "markdown",
   "id": "7699e2e7-deb7-411a-907b-e0b6760d3e14",
   "metadata": {},
   "source": [
    "### 1. Which enslaver/captor had the highest difference between the total number of people who embarked and disembarked?\n",
    "\n",
    "**Hint:** You may need to [add a column](https://github.com/GCDigitalFellows/intro-pandas-dri-2022/blob/main/README.md#8-rename-select-drop-and-add-new-columns) to calculate the difference, use the [```.groupby```, ```.count()``` and ```.sort_values``` methods](https://github.com/GCDigitalFellows/intro-pandas-dri-2022/blob/main/README.md#9-sort-columns-groupby-columns--count-values) for this challenge. "
   ]
  },
  {
   "cell_type": "code",
   "execution_count": null,
   "id": "f2f16094-80b6-4767-ba8e-a6b0784a63b6",
   "metadata": {},
   "outputs": [],
   "source": []
  },
  {
   "cell_type": "markdown",
   "id": "8a7e104a",
   "metadata": {},
   "source": [
    "**Double click to edit cell**     \n",
    "Please type your answer here."
   ]
  }
 ],
 "metadata": {
  "kernelspec": {
   "display_name": "Python 3 (ipykernel)",
   "language": "python",
   "name": "python3"
  },
  "language_info": {
   "codemirror_mode": {
    "name": "ipython",
    "version": 3
   },
   "file_extension": ".py",
   "mimetype": "text/x-python",
   "name": "python",
   "nbconvert_exporter": "python",
   "pygments_lexer": "ipython3",
   "version": "3.11.9"
  }
 },
 "nbformat": 4,
 "nbformat_minor": 5
}
